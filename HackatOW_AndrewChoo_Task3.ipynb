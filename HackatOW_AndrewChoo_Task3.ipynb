{
 "cells": [
  {
   "cell_type": "code",
   "execution_count": 9,
   "id": "69f8ce90-deb7-4c94-bd7c-480d3232f6e7",
   "metadata": {},
   "outputs": [],
   "source": [
    "import numpy as np\n",
    "import matplotlib.pyplot as plt\n",
    "import pandas as pd\n",
    "import re\n",
    "import seaborn as sns\n",
    "import scipy as sp\n",
    "from statsmodels.stats.outliers_influence import variance_inflation_factor\n",
    "from sklearn.preprocessing import OneHotEncoder\n",
    "from sklearn.preprocessing import LabelEncoder\n",
    "from sklearn.preprocessing import MinMaxScaler, StandardScaler\n",
    "from sklearn.model_selection import train_test_split\n",
    "from sklearn import linear_model\n",
    "from sklearn.model_selection import cross_validate\n",
    "from sklearn.model_selection import cross_val_score\n",
    "from sklearn.metrics import mean_squared_error, r2_score, accuracy_score\n",
    "import sklearn.metrics as metrics"
   ]
  },
  {
   "cell_type": "code",
   "execution_count": 10,
   "id": "bb996eac-0e2e-4680-9ac4-afdbe0eaf11b",
   "metadata": {},
   "outputs": [
    {
     "name": "stdout",
     "output_type": "stream",
     "text": [
      "<class 'pandas.core.frame.DataFrame'>\n",
      "RangeIndex: 1064572 entries, 0 to 1064571\n",
      "Data columns (total 28 columns):\n",
      " #   Column                Non-Null Count    Dtype  \n",
      "---  ------                --------------    -----  \n",
      " 0   TransactionDate       1064572 non-null  object \n",
      " 1   Unnamed: 0            1064572 non-null  int64  \n",
      " 2   DayOfWeek             1064572 non-null  object \n",
      " 3   WeekendFlag           1064572 non-null  bool   \n",
      " 4   StoreKey              1064572 non-null  int64  \n",
      " 5   ProductKey            1064572 non-null  int64  \n",
      " 6   UnitVolume            1064572 non-null  int64  \n",
      " 7   ActualSales           1064572 non-null  float64\n",
      " 8   SalesDiscount         1064572 non-null  int64  \n",
      " 9   RetailFullPrice       1064572 non-null  float64\n",
      " 10  Trans_Sale_Amount     1064572 non-null  float64\n",
      " 11  PromotionKey          410448 non-null   float64\n",
      " 12  PromoMechanic         410448 non-null   object \n",
      " 13  PromotionStartDate    410448 non-null   object \n",
      " 14  PromotionEndDate      410448 non-null   object \n",
      " 15  DistributionChannel   1064572 non-null  object \n",
      " 16  StoreType             1064572 non-null  object \n",
      " 17  Region_Lvl1           1064572 non-null  object \n",
      " 18  Region_Lvl2           1064572 non-null  object \n",
      " 19  TotDisc               1064572 non-null  int64  \n",
      " 20  BrandKey              1064572 non-null  int64  \n",
      " 21  SupplierKey           1064572 non-null  int64  \n",
      " 22  ProductCategory_Lvl1  1064572 non-null  object \n",
      " 23  ProductCategory_Lvl2  1064572 non-null  object \n",
      " 24  Date_monthly          0 non-null        float64\n",
      " 25  CPI_monthly           0 non-null        float64\n",
      " 26  Date_daily            1064572 non-null  object \n",
      " 27  CPI_daily             1064572 non-null  float64\n",
      "dtypes: bool(1), float64(7), int64(8), object(12)\n",
      "memory usage: 220.3+ MB\n"
     ]
    }
   ],
   "source": [
    "trans_data_promo_store_product_CPI = pd.read_csv('trans_data_promo_store_product_CPI.csv')\n",
    "trans_data_promo_store_product_CPI.info()"
   ]
  },
  {
   "cell_type": "code",
   "execution_count": 11,
   "id": "e17c042b-825a-4875-987b-340ca0b8ed6f",
   "metadata": {},
   "outputs": [
    {
     "data": {
      "text/html": [
       "<div>\n",
       "<style scoped>\n",
       "    .dataframe tbody tr th:only-of-type {\n",
       "        vertical-align: middle;\n",
       "    }\n",
       "\n",
       "    .dataframe tbody tr th {\n",
       "        vertical-align: top;\n",
       "    }\n",
       "\n",
       "    .dataframe thead th {\n",
       "        text-align: right;\n",
       "    }\n",
       "</style>\n",
       "<table border=\"1\" class=\"dataframe\">\n",
       "  <thead>\n",
       "    <tr style=\"text-align: right;\">\n",
       "      <th></th>\n",
       "      <th>index</th>\n",
       "      <th>TransactionDate</th>\n",
       "      <th>Unnamed: 0</th>\n",
       "      <th>DayOfWeek</th>\n",
       "      <th>WeekendFlag</th>\n",
       "      <th>StoreKey</th>\n",
       "      <th>ProductKey</th>\n",
       "      <th>UnitVolume</th>\n",
       "      <th>ActualSales</th>\n",
       "      <th>SalesDiscount</th>\n",
       "      <th>...</th>\n",
       "      <th>Region_Lvl2</th>\n",
       "      <th>TotDisc</th>\n",
       "      <th>BrandKey</th>\n",
       "      <th>SupplierKey</th>\n",
       "      <th>ProductCategory_Lvl1</th>\n",
       "      <th>ProductCategory_Lvl2</th>\n",
       "      <th>Date_monthly</th>\n",
       "      <th>CPI_monthly</th>\n",
       "      <th>Date_daily</th>\n",
       "      <th>CPI_daily</th>\n",
       "    </tr>\n",
       "  </thead>\n",
       "  <tbody>\n",
       "    <tr>\n",
       "      <th>0</th>\n",
       "      <td>0</td>\n",
       "      <td>2020-01-01</td>\n",
       "      <td>863955</td>\n",
       "      <td>Wednesday</td>\n",
       "      <td>False</td>\n",
       "      <td>249</td>\n",
       "      <td>49325</td>\n",
       "      <td>2</td>\n",
       "      <td>52.2027</td>\n",
       "      <td>-5</td>\n",
       "      <td>...</td>\n",
       "      <td>A44</td>\n",
       "      <td>10</td>\n",
       "      <td>3521</td>\n",
       "      <td>1039040118</td>\n",
       "      <td>Category A</td>\n",
       "      <td>AC</td>\n",
       "      <td>NaN</td>\n",
       "      <td>NaN</td>\n",
       "      <td>2020-01-01</td>\n",
       "      <td>122.4</td>\n",
       "    </tr>\n",
       "    <tr>\n",
       "      <th>1</th>\n",
       "      <td>1</td>\n",
       "      <td>2020-01-01</td>\n",
       "      <td>968137</td>\n",
       "      <td>Wednesday</td>\n",
       "      <td>False</td>\n",
       "      <td>588</td>\n",
       "      <td>49340</td>\n",
       "      <td>2</td>\n",
       "      <td>20.0374</td>\n",
       "      <td>0</td>\n",
       "      <td>...</td>\n",
       "      <td>A10</td>\n",
       "      <td>0</td>\n",
       "      <td>3521</td>\n",
       "      <td>1036290101</td>\n",
       "      <td>Category A</td>\n",
       "      <td>AA</td>\n",
       "      <td>NaN</td>\n",
       "      <td>NaN</td>\n",
       "      <td>2020-01-01</td>\n",
       "      <td>122.4</td>\n",
       "    </tr>\n",
       "    <tr>\n",
       "      <th>2</th>\n",
       "      <td>2</td>\n",
       "      <td>2020-01-01</td>\n",
       "      <td>745435</td>\n",
       "      <td>Wednesday</td>\n",
       "      <td>False</td>\n",
       "      <td>179</td>\n",
       "      <td>96971</td>\n",
       "      <td>1</td>\n",
       "      <td>30.5834</td>\n",
       "      <td>0</td>\n",
       "      <td>...</td>\n",
       "      <td>A20</td>\n",
       "      <td>0</td>\n",
       "      <td>3521</td>\n",
       "      <td>1036290101</td>\n",
       "      <td>Category A</td>\n",
       "      <td>AA</td>\n",
       "      <td>NaN</td>\n",
       "      <td>NaN</td>\n",
       "      <td>2020-01-01</td>\n",
       "      <td>122.4</td>\n",
       "    </tr>\n",
       "    <tr>\n",
       "      <th>3</th>\n",
       "      <td>3</td>\n",
       "      <td>2020-01-01</td>\n",
       "      <td>840917</td>\n",
       "      <td>Wednesday</td>\n",
       "      <td>False</td>\n",
       "      <td>397</td>\n",
       "      <td>39983</td>\n",
       "      <td>3</td>\n",
       "      <td>55.3665</td>\n",
       "      <td>0</td>\n",
       "      <td>...</td>\n",
       "      <td>A51</td>\n",
       "      <td>0</td>\n",
       "      <td>3521</td>\n",
       "      <td>1036290101</td>\n",
       "      <td>Category A</td>\n",
       "      <td>AA</td>\n",
       "      <td>NaN</td>\n",
       "      <td>NaN</td>\n",
       "      <td>2020-01-01</td>\n",
       "      <td>122.4</td>\n",
       "    </tr>\n",
       "    <tr>\n",
       "      <th>4</th>\n",
       "      <td>4</td>\n",
       "      <td>2020-01-01</td>\n",
       "      <td>38043</td>\n",
       "      <td>Wednesday</td>\n",
       "      <td>False</td>\n",
       "      <td>96</td>\n",
       "      <td>78907</td>\n",
       "      <td>1</td>\n",
       "      <td>54.3119</td>\n",
       "      <td>0</td>\n",
       "      <td>...</td>\n",
       "      <td>A20</td>\n",
       "      <td>0</td>\n",
       "      <td>3521</td>\n",
       "      <td>1039040101</td>\n",
       "      <td>Category A</td>\n",
       "      <td>AE</td>\n",
       "      <td>NaN</td>\n",
       "      <td>NaN</td>\n",
       "      <td>2020-01-01</td>\n",
       "      <td>122.4</td>\n",
       "    </tr>\n",
       "  </tbody>\n",
       "</table>\n",
       "<p>5 rows × 29 columns</p>\n",
       "</div>"
      ],
      "text/plain": [
       "   index TransactionDate  Unnamed: 0  DayOfWeek  WeekendFlag  StoreKey  \\\n",
       "0      0      2020-01-01      863955  Wednesday        False       249   \n",
       "1      1      2020-01-01      968137  Wednesday        False       588   \n",
       "2      2      2020-01-01      745435  Wednesday        False       179   \n",
       "3      3      2020-01-01      840917  Wednesday        False       397   \n",
       "4      4      2020-01-01       38043  Wednesday        False        96   \n",
       "\n",
       "   ProductKey  UnitVolume  ActualSales  SalesDiscount  ...  Region_Lvl2  \\\n",
       "0       49325           2      52.2027             -5  ...          A44   \n",
       "1       49340           2      20.0374              0  ...          A10   \n",
       "2       96971           1      30.5834              0  ...          A20   \n",
       "3       39983           3      55.3665              0  ...          A51   \n",
       "4       78907           1      54.3119              0  ...          A20   \n",
       "\n",
       "   TotDisc  BrandKey SupplierKey ProductCategory_Lvl1 ProductCategory_Lvl2  \\\n",
       "0       10      3521  1039040118           Category A                   AC   \n",
       "1        0      3521  1036290101           Category A                   AA   \n",
       "2        0      3521  1036290101           Category A                   AA   \n",
       "3        0      3521  1036290101           Category A                   AA   \n",
       "4        0      3521  1039040101           Category A                   AE   \n",
       "\n",
       "  Date_monthly CPI_monthly   Date_daily CPI_daily  \n",
       "0          NaN          NaN  2020-01-01     122.4  \n",
       "1          NaN          NaN  2020-01-01     122.4  \n",
       "2          NaN          NaN  2020-01-01     122.4  \n",
       "3          NaN          NaN  2020-01-01     122.4  \n",
       "4          NaN          NaN  2020-01-01     122.4  \n",
       "\n",
       "[5 rows x 29 columns]"
      ]
     },
     "execution_count": 11,
     "metadata": {},
     "output_type": "execute_result"
    }
   ],
   "source": [
    "Full_Df = trans_data_promo_store_product_CPI.reset_index()\n",
    "Full_Df.head()"
   ]
  },
  {
   "cell_type": "code",
   "execution_count": 12,
   "id": "27f4b225-98bd-421c-b107-549f6f5ea5b9",
   "metadata": {},
   "outputs": [],
   "source": [
    "# float(\"5%\".replace(\"%\", \"\").replace(\",\", \"\"))/100"
   ]
  },
  {
   "cell_type": "code",
   "execution_count": 13,
   "id": "81586c8a-9b7e-41c1-a405-f4cf3bc51d6d",
   "metadata": {},
   "outputs": [],
   "source": [
    "def Promo_Flag(data, Product_Key, Date):\n",
    "    \n",
    "    thres = \"5%\"\n",
    "    Promo_Offline = []\n",
    "    Promo_below_Thresh = []\n",
    "    No_Promo = []\n",
    "\n",
    "\n",
    "    for i in data:\n",
    "        ProdKey = i['ProductKey']\n",
    "        TransDate = i['TransactionDate']\n",
    "        \n",
    "        if ProdKey == Product_Key and TransDate == Date:\n",
    "            StoreLoc = i['Region_Lvl1']\n",
    "            SalesDisc = i['SalesDiscount']\n",
    "            RFP = i['RetailFullPrice']\n",
    "            x = SalesDisc/RFP\n",
    "            \n",
    "            if StoreLoc != \"O\" and x > float((thres).replace(\"%\", \"\").replace(\",\", \"\"))/100:\n",
    "                Promo_Offline.append(Product_Key)\n",
    "                return Print(\"(Promo_Offline) is on promotion on (arg(date)).\")\n",
    "                \n",
    "            elif x <= float(\"5%\".replace(\"%\", \"\").replace(\",\", \"\"))/100:\n",
    "                i['SalesDiscount'] = i['SalesDiscount'].replace(i['SalesDiscount'], j['ProductKey']['SalesDiscount'])\n",
    "                return Print(\"(Promo_below_Thresh) is on promotion, but below the threshold of 5% on (arg(date)).\")\n",
    "\n",
    "\n",
    "            else:\n",
    "                return Print(\"(No_Promo) is not on promotion on (arg(date)).\")"
   ]
  },
  {
   "cell_type": "code",
   "execution_count": 6,
   "id": "7b9d77e8-3f39-45cf-9d4d-c8bafba3470e",
   "metadata": {},
   "outputs": [],
   "source": [
    "###UNABLE TO RUN THIS CELL AND KERNEL KEEPS RESTARTING"
   ]
  },
  {
   "cell_type": "code",
   "execution_count": null,
   "id": "5985a8ae-5881-4f36-b4e2-88be0a3382fc",
   "metadata": {},
   "outputs": [],
   "source": [
    "###UNABLE TO RUN THIS CELL AND KERNEL KEEPS RESTARTING\n",
    "\n",
    "data_corr = Full_Df.select_dtypes(include=[np.number])\n",
    "\n",
    "fig,ax = plt.subplots(figsize = (15,15))\n",
    "ax = sns.heatmap(data_corr,square =True,annot=True, cmap =\"Greys\")\n",
    "ax.set_xticklabels(ax.get_xticklabels(),\n",
    "                  rotation =45,\n",
    "                  horizontalalignment = \"right\")"
   ]
  },
  {
   "cell_type": "code",
   "execution_count": 8,
   "id": "fdbafbdc-36fa-4b65-9758-fd41ba5a8177",
   "metadata": {},
   "outputs": [
    {
     "ename": "MissingDataError",
     "evalue": "exog contains inf or nans",
     "output_type": "error",
     "traceback": [
      "\u001b[0;31m---------------------------------------------------------------------------\u001b[0m",
      "\u001b[0;31mMissingDataError\u001b[0m                          Traceback (most recent call last)",
      "\u001b[0;32m/var/folders/bn/ssh2q0ws68jgts8x4b_2qxqw0000gn/T/ipykernel_30901/3421052545.py\u001b[0m in \u001b[0;36m<module>\u001b[0;34m\u001b[0m\n\u001b[1;32m      9\u001b[0m \u001b[0mX\u001b[0m\u001b[0;34m.\u001b[0m\u001b[0mdropna\u001b[0m\u001b[0;34m(\u001b[0m\u001b[0;34m)\u001b[0m\u001b[0;34m\u001b[0m\u001b[0;34m\u001b[0m\u001b[0m\n\u001b[1;32m     10\u001b[0m \u001b[0;34m\u001b[0m\u001b[0m\n\u001b[0;32m---> 11\u001b[0;31m \u001b[0mc_vif\u001b[0m\u001b[0;34m(\u001b[0m\u001b[0mX\u001b[0m\u001b[0;34m)\u001b[0m\u001b[0;34m\u001b[0m\u001b[0;34m\u001b[0m\u001b[0m\n\u001b[0m",
      "\u001b[0;32m/var/folders/bn/ssh2q0ws68jgts8x4b_2qxqw0000gn/T/ipykernel_30901/3421052545.py\u001b[0m in \u001b[0;36mc_vif\u001b[0;34m(data)\u001b[0m\n\u001b[1;32m      2\u001b[0m     \u001b[0mdf\u001b[0m \u001b[0;34m=\u001b[0m \u001b[0mpd\u001b[0m\u001b[0;34m.\u001b[0m\u001b[0mDataFrame\u001b[0m\u001b[0;34m(\u001b[0m\u001b[0;34m)\u001b[0m\u001b[0;34m\u001b[0m\u001b[0;34m\u001b[0m\u001b[0m\n\u001b[1;32m      3\u001b[0m     \u001b[0mdf\u001b[0m\u001b[0;34m[\u001b[0m\u001b[0;34m\"Variables\"\u001b[0m\u001b[0;34m]\u001b[0m \u001b[0;34m=\u001b[0m \u001b[0mdata\u001b[0m\u001b[0;34m.\u001b[0m\u001b[0mcolumns\u001b[0m\u001b[0;34m\u001b[0m\u001b[0;34m\u001b[0m\u001b[0m\n\u001b[0;32m----> 4\u001b[0;31m     \u001b[0mdf\u001b[0m\u001b[0;34m[\u001b[0m\u001b[0;34m\"VIF\"\u001b[0m\u001b[0;34m]\u001b[0m \u001b[0;34m=\u001b[0m \u001b[0;34m[\u001b[0m\u001b[0mvariance_inflation_factor\u001b[0m\u001b[0;34m(\u001b[0m\u001b[0mdata\u001b[0m\u001b[0;34m.\u001b[0m\u001b[0mvalues\u001b[0m\u001b[0;34m,\u001b[0m \u001b[0mi\u001b[0m\u001b[0;34m)\u001b[0m \u001b[0;32mfor\u001b[0m \u001b[0mi\u001b[0m \u001b[0;32min\u001b[0m \u001b[0mrange\u001b[0m\u001b[0;34m(\u001b[0m\u001b[0mdata\u001b[0m\u001b[0;34m.\u001b[0m\u001b[0mshape\u001b[0m\u001b[0;34m[\u001b[0m\u001b[0;36m1\u001b[0m\u001b[0;34m]\u001b[0m\u001b[0;34m)\u001b[0m\u001b[0;34m]\u001b[0m\u001b[0;34m\u001b[0m\u001b[0;34m\u001b[0m\u001b[0m\n\u001b[0m\u001b[1;32m      5\u001b[0m     \u001b[0mdf\u001b[0m\u001b[0;34m.\u001b[0m\u001b[0mVIF\u001b[0m \u001b[0;34m=\u001b[0m \u001b[0mdf\u001b[0m\u001b[0;34m.\u001b[0m\u001b[0mVIF\u001b[0m\u001b[0;34m\u001b[0m\u001b[0;34m\u001b[0m\u001b[0m\n\u001b[1;32m      6\u001b[0m     \u001b[0;32mreturn\u001b[0m\u001b[0;34m(\u001b[0m\u001b[0mdf\u001b[0m\u001b[0;34m)\u001b[0m\u001b[0;34m\u001b[0m\u001b[0;34m\u001b[0m\u001b[0m\n",
      "\u001b[0;32m/var/folders/bn/ssh2q0ws68jgts8x4b_2qxqw0000gn/T/ipykernel_30901/3421052545.py\u001b[0m in \u001b[0;36m<listcomp>\u001b[0;34m(.0)\u001b[0m\n\u001b[1;32m      2\u001b[0m     \u001b[0mdf\u001b[0m \u001b[0;34m=\u001b[0m \u001b[0mpd\u001b[0m\u001b[0;34m.\u001b[0m\u001b[0mDataFrame\u001b[0m\u001b[0;34m(\u001b[0m\u001b[0;34m)\u001b[0m\u001b[0;34m\u001b[0m\u001b[0;34m\u001b[0m\u001b[0m\n\u001b[1;32m      3\u001b[0m     \u001b[0mdf\u001b[0m\u001b[0;34m[\u001b[0m\u001b[0;34m\"Variables\"\u001b[0m\u001b[0;34m]\u001b[0m \u001b[0;34m=\u001b[0m \u001b[0mdata\u001b[0m\u001b[0;34m.\u001b[0m\u001b[0mcolumns\u001b[0m\u001b[0;34m\u001b[0m\u001b[0;34m\u001b[0m\u001b[0m\n\u001b[0;32m----> 4\u001b[0;31m     \u001b[0mdf\u001b[0m\u001b[0;34m[\u001b[0m\u001b[0;34m\"VIF\"\u001b[0m\u001b[0;34m]\u001b[0m \u001b[0;34m=\u001b[0m \u001b[0;34m[\u001b[0m\u001b[0mvariance_inflation_factor\u001b[0m\u001b[0;34m(\u001b[0m\u001b[0mdata\u001b[0m\u001b[0;34m.\u001b[0m\u001b[0mvalues\u001b[0m\u001b[0;34m,\u001b[0m \u001b[0mi\u001b[0m\u001b[0;34m)\u001b[0m \u001b[0;32mfor\u001b[0m \u001b[0mi\u001b[0m \u001b[0;32min\u001b[0m \u001b[0mrange\u001b[0m\u001b[0;34m(\u001b[0m\u001b[0mdata\u001b[0m\u001b[0;34m.\u001b[0m\u001b[0mshape\u001b[0m\u001b[0;34m[\u001b[0m\u001b[0;36m1\u001b[0m\u001b[0;34m]\u001b[0m\u001b[0;34m)\u001b[0m\u001b[0;34m]\u001b[0m\u001b[0;34m\u001b[0m\u001b[0;34m\u001b[0m\u001b[0m\n\u001b[0m\u001b[1;32m      5\u001b[0m     \u001b[0mdf\u001b[0m\u001b[0;34m.\u001b[0m\u001b[0mVIF\u001b[0m \u001b[0;34m=\u001b[0m \u001b[0mdf\u001b[0m\u001b[0;34m.\u001b[0m\u001b[0mVIF\u001b[0m\u001b[0;34m\u001b[0m\u001b[0;34m\u001b[0m\u001b[0m\n\u001b[1;32m      6\u001b[0m     \u001b[0;32mreturn\u001b[0m\u001b[0;34m(\u001b[0m\u001b[0mdf\u001b[0m\u001b[0;34m)\u001b[0m\u001b[0;34m\u001b[0m\u001b[0;34m\u001b[0m\u001b[0m\n",
      "\u001b[0;32m~/opt/anaconda3/lib/python3.9/site-packages/statsmodels/stats/outliers_influence.py\u001b[0m in \u001b[0;36mvariance_inflation_factor\u001b[0;34m(exog, exog_idx)\u001b[0m\n\u001b[1;32m    192\u001b[0m     \u001b[0mmask\u001b[0m \u001b[0;34m=\u001b[0m \u001b[0mnp\u001b[0m\u001b[0;34m.\u001b[0m\u001b[0marange\u001b[0m\u001b[0;34m(\u001b[0m\u001b[0mk_vars\u001b[0m\u001b[0;34m)\u001b[0m \u001b[0;34m!=\u001b[0m \u001b[0mexog_idx\u001b[0m\u001b[0;34m\u001b[0m\u001b[0;34m\u001b[0m\u001b[0m\n\u001b[1;32m    193\u001b[0m     \u001b[0mx_noti\u001b[0m \u001b[0;34m=\u001b[0m \u001b[0mexog\u001b[0m\u001b[0;34m[\u001b[0m\u001b[0;34m:\u001b[0m\u001b[0;34m,\u001b[0m \u001b[0mmask\u001b[0m\u001b[0;34m]\u001b[0m\u001b[0;34m\u001b[0m\u001b[0;34m\u001b[0m\u001b[0m\n\u001b[0;32m--> 194\u001b[0;31m     \u001b[0mr_squared_i\u001b[0m \u001b[0;34m=\u001b[0m \u001b[0mOLS\u001b[0m\u001b[0;34m(\u001b[0m\u001b[0mx_i\u001b[0m\u001b[0;34m,\u001b[0m \u001b[0mx_noti\u001b[0m\u001b[0;34m)\u001b[0m\u001b[0;34m.\u001b[0m\u001b[0mfit\u001b[0m\u001b[0;34m(\u001b[0m\u001b[0;34m)\u001b[0m\u001b[0;34m.\u001b[0m\u001b[0mrsquared\u001b[0m\u001b[0;34m\u001b[0m\u001b[0;34m\u001b[0m\u001b[0m\n\u001b[0m\u001b[1;32m    195\u001b[0m     \u001b[0mvif\u001b[0m \u001b[0;34m=\u001b[0m \u001b[0;36m1.\u001b[0m \u001b[0;34m/\u001b[0m \u001b[0;34m(\u001b[0m\u001b[0;36m1.\u001b[0m \u001b[0;34m-\u001b[0m \u001b[0mr_squared_i\u001b[0m\u001b[0;34m)\u001b[0m\u001b[0;34m\u001b[0m\u001b[0;34m\u001b[0m\u001b[0m\n\u001b[1;32m    196\u001b[0m     \u001b[0;32mreturn\u001b[0m \u001b[0mvif\u001b[0m\u001b[0;34m\u001b[0m\u001b[0;34m\u001b[0m\u001b[0m\n",
      "\u001b[0;32m~/opt/anaconda3/lib/python3.9/site-packages/statsmodels/regression/linear_model.py\u001b[0m in \u001b[0;36m__init__\u001b[0;34m(self, endog, exog, missing, hasconst, **kwargs)\u001b[0m\n\u001b[1;32m    888\u001b[0m                    \"An exception will be raised in the next version.\")\n\u001b[1;32m    889\u001b[0m             \u001b[0mwarnings\u001b[0m\u001b[0;34m.\u001b[0m\u001b[0mwarn\u001b[0m\u001b[0;34m(\u001b[0m\u001b[0mmsg\u001b[0m\u001b[0;34m,\u001b[0m \u001b[0mValueWarning\u001b[0m\u001b[0;34m)\u001b[0m\u001b[0;34m\u001b[0m\u001b[0;34m\u001b[0m\u001b[0m\n\u001b[0;32m--> 890\u001b[0;31m         super(OLS, self).__init__(endog, exog, missing=missing,\n\u001b[0m\u001b[1;32m    891\u001b[0m                                   hasconst=hasconst, **kwargs)\n\u001b[1;32m    892\u001b[0m         \u001b[0;32mif\u001b[0m \u001b[0;34m\"weights\"\u001b[0m \u001b[0;32min\u001b[0m \u001b[0mself\u001b[0m\u001b[0;34m.\u001b[0m\u001b[0m_init_keys\u001b[0m\u001b[0;34m:\u001b[0m\u001b[0;34m\u001b[0m\u001b[0;34m\u001b[0m\u001b[0m\n",
      "\u001b[0;32m~/opt/anaconda3/lib/python3.9/site-packages/statsmodels/regression/linear_model.py\u001b[0m in \u001b[0;36m__init__\u001b[0;34m(self, endog, exog, weights, missing, hasconst, **kwargs)\u001b[0m\n\u001b[1;32m    715\u001b[0m         \u001b[0;32melse\u001b[0m\u001b[0;34m:\u001b[0m\u001b[0;34m\u001b[0m\u001b[0;34m\u001b[0m\u001b[0m\n\u001b[1;32m    716\u001b[0m             \u001b[0mweights\u001b[0m \u001b[0;34m=\u001b[0m \u001b[0mweights\u001b[0m\u001b[0;34m.\u001b[0m\u001b[0msqueeze\u001b[0m\u001b[0;34m(\u001b[0m\u001b[0;34m)\u001b[0m\u001b[0;34m\u001b[0m\u001b[0;34m\u001b[0m\u001b[0m\n\u001b[0;32m--> 717\u001b[0;31m         super(WLS, self).__init__(endog, exog, missing=missing,\n\u001b[0m\u001b[1;32m    718\u001b[0m                                   weights=weights, hasconst=hasconst, **kwargs)\n\u001b[1;32m    719\u001b[0m         \u001b[0mnobs\u001b[0m \u001b[0;34m=\u001b[0m \u001b[0mself\u001b[0m\u001b[0;34m.\u001b[0m\u001b[0mexog\u001b[0m\u001b[0;34m.\u001b[0m\u001b[0mshape\u001b[0m\u001b[0;34m[\u001b[0m\u001b[0;36m0\u001b[0m\u001b[0;34m]\u001b[0m\u001b[0;34m\u001b[0m\u001b[0;34m\u001b[0m\u001b[0m\n",
      "\u001b[0;32m~/opt/anaconda3/lib/python3.9/site-packages/statsmodels/regression/linear_model.py\u001b[0m in \u001b[0;36m__init__\u001b[0;34m(self, endog, exog, **kwargs)\u001b[0m\n\u001b[1;32m    189\u001b[0m     \"\"\"\n\u001b[1;32m    190\u001b[0m     \u001b[0;32mdef\u001b[0m \u001b[0m__init__\u001b[0m\u001b[0;34m(\u001b[0m\u001b[0mself\u001b[0m\u001b[0;34m,\u001b[0m \u001b[0mendog\u001b[0m\u001b[0;34m,\u001b[0m \u001b[0mexog\u001b[0m\u001b[0;34m,\u001b[0m \u001b[0;34m**\u001b[0m\u001b[0mkwargs\u001b[0m\u001b[0;34m)\u001b[0m\u001b[0;34m:\u001b[0m\u001b[0;34m\u001b[0m\u001b[0;34m\u001b[0m\u001b[0m\n\u001b[0;32m--> 191\u001b[0;31m         \u001b[0msuper\u001b[0m\u001b[0;34m(\u001b[0m\u001b[0mRegressionModel\u001b[0m\u001b[0;34m,\u001b[0m \u001b[0mself\u001b[0m\u001b[0;34m)\u001b[0m\u001b[0;34m.\u001b[0m\u001b[0m__init__\u001b[0m\u001b[0;34m(\u001b[0m\u001b[0mendog\u001b[0m\u001b[0;34m,\u001b[0m \u001b[0mexog\u001b[0m\u001b[0;34m,\u001b[0m \u001b[0;34m**\u001b[0m\u001b[0mkwargs\u001b[0m\u001b[0;34m)\u001b[0m\u001b[0;34m\u001b[0m\u001b[0;34m\u001b[0m\u001b[0m\n\u001b[0m\u001b[1;32m    192\u001b[0m         \u001b[0mself\u001b[0m\u001b[0;34m.\u001b[0m\u001b[0m_data_attr\u001b[0m\u001b[0;34m.\u001b[0m\u001b[0mextend\u001b[0m\u001b[0;34m(\u001b[0m\u001b[0;34m[\u001b[0m\u001b[0;34m'pinv_wexog'\u001b[0m\u001b[0;34m,\u001b[0m \u001b[0;34m'wendog'\u001b[0m\u001b[0;34m,\u001b[0m \u001b[0;34m'wexog'\u001b[0m\u001b[0;34m,\u001b[0m \u001b[0;34m'weights'\u001b[0m\u001b[0;34m]\u001b[0m\u001b[0;34m)\u001b[0m\u001b[0;34m\u001b[0m\u001b[0;34m\u001b[0m\u001b[0m\n\u001b[1;32m    193\u001b[0m \u001b[0;34m\u001b[0m\u001b[0m\n",
      "\u001b[0;32m~/opt/anaconda3/lib/python3.9/site-packages/statsmodels/base/model.py\u001b[0m in \u001b[0;36m__init__\u001b[0;34m(self, endog, exog, **kwargs)\u001b[0m\n\u001b[1;32m    265\u001b[0m \u001b[0;34m\u001b[0m\u001b[0m\n\u001b[1;32m    266\u001b[0m     \u001b[0;32mdef\u001b[0m \u001b[0m__init__\u001b[0m\u001b[0;34m(\u001b[0m\u001b[0mself\u001b[0m\u001b[0;34m,\u001b[0m \u001b[0mendog\u001b[0m\u001b[0;34m,\u001b[0m \u001b[0mexog\u001b[0m\u001b[0;34m=\u001b[0m\u001b[0;32mNone\u001b[0m\u001b[0;34m,\u001b[0m \u001b[0;34m**\u001b[0m\u001b[0mkwargs\u001b[0m\u001b[0;34m)\u001b[0m\u001b[0;34m:\u001b[0m\u001b[0;34m\u001b[0m\u001b[0;34m\u001b[0m\u001b[0m\n\u001b[0;32m--> 267\u001b[0;31m         \u001b[0msuper\u001b[0m\u001b[0;34m(\u001b[0m\u001b[0;34m)\u001b[0m\u001b[0;34m.\u001b[0m\u001b[0m__init__\u001b[0m\u001b[0;34m(\u001b[0m\u001b[0mendog\u001b[0m\u001b[0;34m,\u001b[0m \u001b[0mexog\u001b[0m\u001b[0;34m,\u001b[0m \u001b[0;34m**\u001b[0m\u001b[0mkwargs\u001b[0m\u001b[0;34m)\u001b[0m\u001b[0;34m\u001b[0m\u001b[0;34m\u001b[0m\u001b[0m\n\u001b[0m\u001b[1;32m    268\u001b[0m         \u001b[0mself\u001b[0m\u001b[0;34m.\u001b[0m\u001b[0minitialize\u001b[0m\u001b[0;34m(\u001b[0m\u001b[0;34m)\u001b[0m\u001b[0;34m\u001b[0m\u001b[0;34m\u001b[0m\u001b[0m\n\u001b[1;32m    269\u001b[0m \u001b[0;34m\u001b[0m\u001b[0m\n",
      "\u001b[0;32m~/opt/anaconda3/lib/python3.9/site-packages/statsmodels/base/model.py\u001b[0m in \u001b[0;36m__init__\u001b[0;34m(self, endog, exog, **kwargs)\u001b[0m\n\u001b[1;32m     90\u001b[0m         \u001b[0mmissing\u001b[0m \u001b[0;34m=\u001b[0m \u001b[0mkwargs\u001b[0m\u001b[0;34m.\u001b[0m\u001b[0mpop\u001b[0m\u001b[0;34m(\u001b[0m\u001b[0;34m'missing'\u001b[0m\u001b[0;34m,\u001b[0m \u001b[0;34m'none'\u001b[0m\u001b[0;34m)\u001b[0m\u001b[0;34m\u001b[0m\u001b[0;34m\u001b[0m\u001b[0m\n\u001b[1;32m     91\u001b[0m         \u001b[0mhasconst\u001b[0m \u001b[0;34m=\u001b[0m \u001b[0mkwargs\u001b[0m\u001b[0;34m.\u001b[0m\u001b[0mpop\u001b[0m\u001b[0;34m(\u001b[0m\u001b[0;34m'hasconst'\u001b[0m\u001b[0;34m,\u001b[0m \u001b[0;32mNone\u001b[0m\u001b[0;34m)\u001b[0m\u001b[0;34m\u001b[0m\u001b[0;34m\u001b[0m\u001b[0m\n\u001b[0;32m---> 92\u001b[0;31m         self.data = self._handle_data(endog, exog, missing, hasconst,\n\u001b[0m\u001b[1;32m     93\u001b[0m                                       **kwargs)\n\u001b[1;32m     94\u001b[0m         \u001b[0mself\u001b[0m\u001b[0;34m.\u001b[0m\u001b[0mk_constant\u001b[0m \u001b[0;34m=\u001b[0m \u001b[0mself\u001b[0m\u001b[0;34m.\u001b[0m\u001b[0mdata\u001b[0m\u001b[0;34m.\u001b[0m\u001b[0mk_constant\u001b[0m\u001b[0;34m\u001b[0m\u001b[0;34m\u001b[0m\u001b[0m\n",
      "\u001b[0;32m~/opt/anaconda3/lib/python3.9/site-packages/statsmodels/base/model.py\u001b[0m in \u001b[0;36m_handle_data\u001b[0;34m(self, endog, exog, missing, hasconst, **kwargs)\u001b[0m\n\u001b[1;32m    130\u001b[0m \u001b[0;34m\u001b[0m\u001b[0m\n\u001b[1;32m    131\u001b[0m     \u001b[0;32mdef\u001b[0m \u001b[0m_handle_data\u001b[0m\u001b[0;34m(\u001b[0m\u001b[0mself\u001b[0m\u001b[0;34m,\u001b[0m \u001b[0mendog\u001b[0m\u001b[0;34m,\u001b[0m \u001b[0mexog\u001b[0m\u001b[0;34m,\u001b[0m \u001b[0mmissing\u001b[0m\u001b[0;34m,\u001b[0m \u001b[0mhasconst\u001b[0m\u001b[0;34m,\u001b[0m \u001b[0;34m**\u001b[0m\u001b[0mkwargs\u001b[0m\u001b[0;34m)\u001b[0m\u001b[0;34m:\u001b[0m\u001b[0;34m\u001b[0m\u001b[0;34m\u001b[0m\u001b[0m\n\u001b[0;32m--> 132\u001b[0;31m         \u001b[0mdata\u001b[0m \u001b[0;34m=\u001b[0m \u001b[0mhandle_data\u001b[0m\u001b[0;34m(\u001b[0m\u001b[0mendog\u001b[0m\u001b[0;34m,\u001b[0m \u001b[0mexog\u001b[0m\u001b[0;34m,\u001b[0m \u001b[0mmissing\u001b[0m\u001b[0;34m,\u001b[0m \u001b[0mhasconst\u001b[0m\u001b[0;34m,\u001b[0m \u001b[0;34m**\u001b[0m\u001b[0mkwargs\u001b[0m\u001b[0;34m)\u001b[0m\u001b[0;34m\u001b[0m\u001b[0;34m\u001b[0m\u001b[0m\n\u001b[0m\u001b[1;32m    133\u001b[0m         \u001b[0;31m# kwargs arrays could have changed, easier to just attach here\u001b[0m\u001b[0;34m\u001b[0m\u001b[0;34m\u001b[0m\u001b[0m\n\u001b[1;32m    134\u001b[0m         \u001b[0;32mfor\u001b[0m \u001b[0mkey\u001b[0m \u001b[0;32min\u001b[0m \u001b[0mkwargs\u001b[0m\u001b[0;34m:\u001b[0m\u001b[0;34m\u001b[0m\u001b[0;34m\u001b[0m\u001b[0m\n",
      "\u001b[0;32m~/opt/anaconda3/lib/python3.9/site-packages/statsmodels/base/data.py\u001b[0m in \u001b[0;36mhandle_data\u001b[0;34m(endog, exog, missing, hasconst, **kwargs)\u001b[0m\n\u001b[1;32m    671\u001b[0m \u001b[0;34m\u001b[0m\u001b[0m\n\u001b[1;32m    672\u001b[0m     \u001b[0mklass\u001b[0m \u001b[0;34m=\u001b[0m \u001b[0mhandle_data_class_factory\u001b[0m\u001b[0;34m(\u001b[0m\u001b[0mendog\u001b[0m\u001b[0;34m,\u001b[0m \u001b[0mexog\u001b[0m\u001b[0;34m)\u001b[0m\u001b[0;34m\u001b[0m\u001b[0;34m\u001b[0m\u001b[0m\n\u001b[0;32m--> 673\u001b[0;31m     return klass(endog, exog=exog, missing=missing, hasconst=hasconst,\n\u001b[0m\u001b[1;32m    674\u001b[0m                  **kwargs)\n",
      "\u001b[0;32m~/opt/anaconda3/lib/python3.9/site-packages/statsmodels/base/data.py\u001b[0m in \u001b[0;36m__init__\u001b[0;34m(self, endog, exog, missing, hasconst, **kwargs)\u001b[0m\n\u001b[1;32m     84\u001b[0m         \u001b[0mself\u001b[0m\u001b[0;34m.\u001b[0m\u001b[0mconst_idx\u001b[0m \u001b[0;34m=\u001b[0m \u001b[0;32mNone\u001b[0m\u001b[0;34m\u001b[0m\u001b[0;34m\u001b[0m\u001b[0m\n\u001b[1;32m     85\u001b[0m         \u001b[0mself\u001b[0m\u001b[0;34m.\u001b[0m\u001b[0mk_constant\u001b[0m \u001b[0;34m=\u001b[0m \u001b[0;36m0\u001b[0m\u001b[0;34m\u001b[0m\u001b[0;34m\u001b[0m\u001b[0m\n\u001b[0;32m---> 86\u001b[0;31m         \u001b[0mself\u001b[0m\u001b[0;34m.\u001b[0m\u001b[0m_handle_constant\u001b[0m\u001b[0;34m(\u001b[0m\u001b[0mhasconst\u001b[0m\u001b[0;34m)\u001b[0m\u001b[0;34m\u001b[0m\u001b[0;34m\u001b[0m\u001b[0m\n\u001b[0m\u001b[1;32m     87\u001b[0m         \u001b[0mself\u001b[0m\u001b[0;34m.\u001b[0m\u001b[0m_check_integrity\u001b[0m\u001b[0;34m(\u001b[0m\u001b[0;34m)\u001b[0m\u001b[0;34m\u001b[0m\u001b[0;34m\u001b[0m\u001b[0m\n\u001b[1;32m     88\u001b[0m         \u001b[0mself\u001b[0m\u001b[0;34m.\u001b[0m\u001b[0m_cache\u001b[0m \u001b[0;34m=\u001b[0m \u001b[0;34m{\u001b[0m\u001b[0;34m}\u001b[0m\u001b[0;34m\u001b[0m\u001b[0;34m\u001b[0m\u001b[0m\n",
      "\u001b[0;32m~/opt/anaconda3/lib/python3.9/site-packages/statsmodels/base/data.py\u001b[0m in \u001b[0;36m_handle_constant\u001b[0;34m(self, hasconst)\u001b[0m\n\u001b[1;32m    130\u001b[0m             \u001b[0mexog_max\u001b[0m \u001b[0;34m=\u001b[0m \u001b[0mnp\u001b[0m\u001b[0;34m.\u001b[0m\u001b[0mmax\u001b[0m\u001b[0;34m(\u001b[0m\u001b[0mself\u001b[0m\u001b[0;34m.\u001b[0m\u001b[0mexog\u001b[0m\u001b[0;34m,\u001b[0m \u001b[0maxis\u001b[0m\u001b[0;34m=\u001b[0m\u001b[0;36m0\u001b[0m\u001b[0;34m)\u001b[0m\u001b[0;34m\u001b[0m\u001b[0;34m\u001b[0m\u001b[0m\n\u001b[1;32m    131\u001b[0m             \u001b[0;32mif\u001b[0m \u001b[0;32mnot\u001b[0m \u001b[0mnp\u001b[0m\u001b[0;34m.\u001b[0m\u001b[0misfinite\u001b[0m\u001b[0;34m(\u001b[0m\u001b[0mexog_max\u001b[0m\u001b[0;34m)\u001b[0m\u001b[0;34m.\u001b[0m\u001b[0mall\u001b[0m\u001b[0;34m(\u001b[0m\u001b[0;34m)\u001b[0m\u001b[0;34m:\u001b[0m\u001b[0;34m\u001b[0m\u001b[0;34m\u001b[0m\u001b[0m\n\u001b[0;32m--> 132\u001b[0;31m                 \u001b[0;32mraise\u001b[0m \u001b[0mMissingDataError\u001b[0m\u001b[0;34m(\u001b[0m\u001b[0;34m'exog contains inf or nans'\u001b[0m\u001b[0;34m)\u001b[0m\u001b[0;34m\u001b[0m\u001b[0;34m\u001b[0m\u001b[0m\n\u001b[0m\u001b[1;32m    133\u001b[0m             \u001b[0mexog_min\u001b[0m \u001b[0;34m=\u001b[0m \u001b[0mnp\u001b[0m\u001b[0;34m.\u001b[0m\u001b[0mmin\u001b[0m\u001b[0;34m(\u001b[0m\u001b[0mself\u001b[0m\u001b[0;34m.\u001b[0m\u001b[0mexog\u001b[0m\u001b[0;34m,\u001b[0m \u001b[0maxis\u001b[0m\u001b[0;34m=\u001b[0m\u001b[0;36m0\u001b[0m\u001b[0;34m)\u001b[0m\u001b[0;34m\u001b[0m\u001b[0;34m\u001b[0m\u001b[0m\n\u001b[1;32m    134\u001b[0m             \u001b[0mconst_idx\u001b[0m \u001b[0;34m=\u001b[0m \u001b[0mnp\u001b[0m\u001b[0;34m.\u001b[0m\u001b[0mwhere\u001b[0m\u001b[0;34m(\u001b[0m\u001b[0mexog_max\u001b[0m \u001b[0;34m==\u001b[0m \u001b[0mexog_min\u001b[0m\u001b[0;34m)\u001b[0m\u001b[0;34m[\u001b[0m\u001b[0;36m0\u001b[0m\u001b[0;34m]\u001b[0m\u001b[0;34m.\u001b[0m\u001b[0msqueeze\u001b[0m\u001b[0;34m(\u001b[0m\u001b[0;34m)\u001b[0m\u001b[0;34m\u001b[0m\u001b[0;34m\u001b[0m\u001b[0m\n",
      "\u001b[0;31mMissingDataError\u001b[0m: exog contains inf or nans"
     ]
    }
   ],
   "source": [
    "def c_vif(data):\n",
    "    df = pd.DataFrame()\n",
    "    df[\"Variables\"] = data.columns\n",
    "    df[\"VIF\"] = [variance_inflation_factor(data.values, i) for i in range(data.shape[1])]\n",
    "    df.VIF = df.VIF\n",
    "    return(df)\n",
    "\n",
    "X = Full_Df.select_dtypes(include=[np.number])\n",
    "\n",
    "c_vif(X)"
   ]
  },
  {
   "cell_type": "code",
   "execution_count": null,
   "id": "2301ddf4-3693-471f-9a23-a2eaa05e1bbd",
   "metadata": {},
   "outputs": [],
   "source": [
    "cat = [\"a\",\"s\",\"d\",\"f\",\"g\"]\n",
    "\n",
    "le = LabelEncoder()\n",
    "df_model[cat] = df_model[cat].apply(lambda x:le.fit_transform(x))\n",
    "\n",
    "X = df_model\n",
    "y = df_model[[\"resale_price\"]].apply(np.log)\n",
    "\n",
    "X_train, X_test, y_train, y_test = train_test_split(X, y, test_size = 0.2, random_state = 1)\n",
    "\n",
    "display(X_train.shape, X_test.shape, y_train.shape, y_test.shape)"
   ]
  },
  {
   "cell_type": "code",
   "execution_count": null,
   "id": "1c0cfe4f-55fb-44c9-8f73-9368665bb13a",
   "metadata": {},
   "outputs": [],
   "source": [
    "### Example to show the effect of np.log - Normal Distribution"
   ]
  },
  {
   "cell_type": "code",
   "execution_count": null,
   "id": "5f771726-7a12-4625-afe8-a9c29aece363",
   "metadata": {},
   "outputs": [],
   "source": [
    "df_model.resale_price.plot(kind= \"hist\")"
   ]
  },
  {
   "cell_type": "code",
   "execution_count": null,
   "id": "8ce6adea-a30b-4d0f-91f6-fc521cecc46c",
   "metadata": {},
   "outputs": [],
   "source": [
    "df_test = df_model[\"resale_price\"]\n",
    "df_test = df_test.apply(np.log)\n",
    "df_test.plot(kind = \"hist\")"
   ]
  },
  {
   "cell_type": "code",
   "execution_count": null,
   "id": "0114036b-789c-4fa0-8cef-823d06f04018",
   "metadata": {},
   "outputs": [],
   "source": [
    "### DataFrame after Encoding Categorical Variables"
   ]
  },
  {
   "cell_type": "code",
   "execution_count": null,
   "id": "06fc1efb-e19f-4836-9263-4bda16b8b14d",
   "metadata": {},
   "outputs": [],
   "source": [
    "df_model.head()"
   ]
  },
  {
   "cell_type": "code",
   "execution_count": null,
   "id": "4c3a7fc7-0df4-44d0-bc0c-5be638b8311f",
   "metadata": {},
   "outputs": [],
   "source": [
    "## Linear Model"
   ]
  },
  {
   "cell_type": "code",
   "execution_count": null,
   "id": "7fd273ef-e5f4-4c64-9cfe-f012d71df269",
   "metadata": {},
   "outputs": [],
   "source": [
    "lm = linear_model.LinearRegression()\n",
    "model = lm.fit(X_train, y_train)\n",
    "predictions = model.predict(X_test)\n",
    "\n",
    "observation = len(df_model)\n",
    "x_variables = len(df_model.columns)\n",
    "\n",
    "r2 = r2_score(y_test, predictions)\n",
    "rmse = mean_squared_error(y_test, predictions)** 0.5\n",
    "\n",
    "score = model.score(X_test,y_test)\n",
    "\n",
    "print(\"The model r2 score is {0} and RMSE is {1}\".format(score, rmse))"
   ]
  },
  {
   "cell_type": "code",
   "execution_count": null,
   "id": "59edbe1d-d416-4ce5-a0d1-62cf6aa414d1",
   "metadata": {},
   "outputs": [],
   "source": [
    "### Evaluation of Model"
   ]
  },
  {
   "cell_type": "code",
   "execution_count": null,
   "id": "a1b429c7-2789-44aa-a957-5b6cd648ce6d",
   "metadata": {},
   "outputs": [],
   "source": [
    "explained_variance=metrics.explained_variance_score(y_test, predictions)\n",
    "mean_absolute_error=metrics.mean_absolute_error(y_test, predictions)\n",
    "mse=metrics.mean_squared_error(y_test, predictions)\n",
    "mean_squared_log_error=metrics.mean_squared_log_error(y_test, predictions)\n",
    "median_absolute_error=metrics.median_absolute_error(y_test, predictions)\n",
    "r2=metrics.r2_score(y_test, predictions)\n",
    "\n",
    "print('explained_variance: ', round(explained_variance,4))    \n",
    "print('mean_squared_log_error: ', round(mean_squared_log_error,4))\n",
    "print('r2: ', round(r2,4))\n",
    "print('MAE: ', round(mean_absolute_error,4))\n",
    "print('MSE: ', round(mse,4))\n",
    "print('RMSE: ', round(np.sqrt(mse),4))"
   ]
  },
  {
   "cell_type": "code",
   "execution_count": null,
   "id": "a45e51c8-5820-45bb-8dee-b9c8eb40bf00",
   "metadata": {},
   "outputs": [],
   "source": [
    "### Plotting the Linear Model"
   ]
  },
  {
   "cell_type": "code",
   "execution_count": null,
   "id": "9f4a4ce7-83f0-4953-9fde-03291d47e9f8",
   "metadata": {},
   "outputs": [],
   "source": [
    "plt.figure(figsize = (10, 6))\n",
    "plt.scatter(y_test, predictions)\n",
    "\n",
    "plt.title(\"Actual Resale Price Against Predicted Price\")\n",
    "plt.ylabel(\"Predicted Price\")\n",
    "plt.xlabel(\"Actual Price\")\n",
    "\n",
    "#plot polyfit line\n",
    "pred_p = predictions.flatten()\n",
    "actual_p = y_test\n",
    "trend = np.polyfit(pred_p, actual_p, 1).flatten()\n",
    "trendpoly = np.poly1d(trend) \n",
    "plt.plot(pred_p, trendpoly(pred_p), \"r-\")\n"
   ]
  },
  {
   "cell_type": "code",
   "execution_count": null,
   "id": "85efb92c-c471-4100-8e54-95fb2b99a130",
   "metadata": {},
   "outputs": [],
   "source": [
    "### Model Coefficents and Intercept"
   ]
  },
  {
   "cell_type": "code",
   "execution_count": null,
   "id": "abc6d9f7-c3bf-4a7b-80ae-d0cc37973256",
   "metadata": {},
   "outputs": [],
   "source": [
    "print(model.coef_) #slope\n",
    "print(model.intercept_) #intercept"
   ]
  },
  {
   "cell_type": "code",
   "execution_count": null,
   "id": "5c730e8d-49de-4345-9797-529c5d019f13",
   "metadata": {},
   "outputs": [],
   "source": [
    "### Generating Random Values to test the Model"
   ]
  },
  {
   "cell_type": "code",
   "execution_count": null,
   "id": "fb06b65d-ada1-4fb8-a068-1b35d0baaca5",
   "metadata": {},
   "outputs": [],
   "source": [
    "import random\n",
    "\n",
    "new = []\n",
    "for i in X_test.columns:\n",
    "    if df_model[i].dtypes == \"int32\":\n",
    "        new.append(random.randint(df_model[i].min(),df_model[i].max()))\n",
    "    elif df_model[i].dtypes == \"int64\":\n",
    "        new.append(random.randint(df_model[i].min(),df_model[i].max()))\n",
    "    else:\n",
    "        new.append(random.uniform(df_model[i].min(),df_model[i].max()))\n",
    "        \n",
    "a_series = pd. Series(new, index = X_test. columns)\n",
    "testing_df = pd.DataFrame(columns = X_test.columns)\n",
    "testing_df = testing_df.append(a_series, ignore_index=True)\n",
    "testing_df"
   ]
  },
  {
   "cell_type": "code",
   "execution_count": null,
   "id": "de8ea0bb-ed4d-4cfb-aa41-fb59b674fdcb",
   "metadata": {},
   "outputs": [],
   "source": [
    "predicted_example = model.predict(testing_df)\n",
    "print(\"Predicted Price is: $\", np.exp(predicted_example[0][0]))"
   ]
  }
 ],
 "metadata": {
  "kernelspec": {
   "display_name": "Python 3 (ipykernel)",
   "language": "python",
   "name": "python3"
  },
  "language_info": {
   "codemirror_mode": {
    "name": "ipython",
    "version": 3
   },
   "file_extension": ".py",
   "mimetype": "text/x-python",
   "name": "python",
   "nbconvert_exporter": "python",
   "pygments_lexer": "ipython3",
   "version": "3.9.13"
  }
 },
 "nbformat": 4,
 "nbformat_minor": 5
}
